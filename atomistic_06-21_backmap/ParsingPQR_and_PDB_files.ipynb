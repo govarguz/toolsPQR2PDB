{
 "cells": [
  {
   "cell_type": "markdown",
   "metadata": {},
   "source": [
    "## Parsers for the Poisson-Boltzmann simulation of Genetic Material (Genome)\n",
    "Copyright (CC 4.0) 2020 [Dr. Horacio V. Guzman]\n",
    "\n",
    "e-mail: horacio.v.g@gmail.com"
   ]
  },
  {
   "cell_type": "code",
   "execution_count": 13,
   "metadata": {},
   "outputs": [],
   "source": [
    "import pdbHtools\n",
    "import glob\n",
    "import re"
   ]
  },
  {
   "cell_type": "markdown",
   "metadata": {},
   "source": [
    "#### Reading the PQR files containing the positions, charges and vdW radii of particles"
   ]
  },
  {
   "cell_type": "code",
   "execution_count": 14,
   "metadata": {},
   "outputs": [],
   "source": [
    "index,atomname,resname,chainid,x,y,z,charge,radii=pdbHtools.pqrread('test.pqr',24,10) # Example file with 24 atoms and a header of 10"
   ]
  },
  {
   "cell_type": "markdown",
   "metadata": {},
   "source": [
    "#### Writing a file containing the positions, charges and vdW radii of all genome particles\n"
   ]
  },
  {
   "cell_type": "code",
   "execution_count": 15,
   "metadata": {},
   "outputs": [],
   "source": [
    "pdbHtools.writepqr2xzyr('test.xyzr',chainid,x,y,z,radii)"
   ]
  },
  {
   "cell_type": "markdown",
   "metadata": {},
   "source": [
    "#### Re-writing the pdb files in the correct format to be read by the APBS-package"
   ]
  },
  {
   "cell_type": "code",
   "execution_count": 16,
   "metadata": {},
   "outputs": [],
   "source": [
    "named='at_01_ctd.x.0.pdb'\n",
    "index,atomname,resname,resid,chainid,x,y,z,alpha,beta,segid,element=pdbHtools.pdbread(named,2273,0)\n",
    "pdbHtools.writepdb('planestest'+str(1)+'_'+str(1)+'.pdb',atomname,resname,resid,chainid,x,y,z,alpha,beta)"
   ]
  },
  {
   "cell_type": "markdown",
   "metadata": {},
   "source": [
    "#### Re-writing in Block for the pdb files in the correct format to be read by the APBS-package"
   ]
  },
  {
   "cell_type": "code",
   "execution_count": 17,
   "metadata": {},
   "outputs": [],
   "source": [
    "# Functions to get index of different genetic configs, e.g. conf_0, conf_1,...\n",
    "\n",
    "def subit(msg,string):\n",
    "    subbed = re.sub(string, \" \", msg)\n",
    "    return subbed\n",
    "def getIndex(string1,cocorico,ind):\n",
    "    strT1=[]\n",
    "    for msg in cocorico:\n",
    "        strT1.append(subit(msg,string1))\n",
    "    print(\"PDB successfully adapted!\",strT1[ind])\n",
    "    procInd0=int(strT1[ind])\n",
    "    return procInd0"
   ]
  },
  {
   "cell_type": "code",
   "execution_count": 18,
   "metadata": {},
   "outputs": [
    {
     "name": "stdout",
     "output_type": "stream",
     "text": [
      "PDB successfully adapted! 2\n",
      "PDB successfully adapted! 0\n",
      "PDB successfully adapted! 1\n",
      "PDB successfully adapted! 3\n",
      "PDB successfully adapted! 2\n",
      "PDB successfully adapted! 3\n",
      "PDB successfully adapted! 1\n",
      "PDB successfully adapted! 0\n",
      "PDB successfully adapted! 2\n",
      "PDB successfully adapted! 3\n",
      "PDB successfully adapted! 0\n",
      "PDB successfully adapted! 1\n"
     ]
    }
   ],
   "source": [
    "asu=['x','y','z']  #defining planes X Y Z. This is an example of getting many confs \n",
    "for i in range(3):\n",
    "    foldpath='01/'+str(asu[i])+'/*'\n",
    "    for filenamePF in glob.glob(foldpath):\n",
    "        index,atomname,resname,resid,chainid,x,y,z,alpha,beta,segid,element=pdbHtools.pdbread(filenamePF,2273,0)\n",
    "        k=getIndex(' ',filenamePF,17)\n",
    "        pdbHtools.writepdb('planes1sys'+str(k)+'_'+str(asu[i])+'.pdb',atomname,resname,resid,chainid,x,y,z,alpha,beta)"
   ]
  }
 ],
 "metadata": {
  "kernelspec": {
   "display_name": "Python 3 (ipykernel)",
   "language": "python",
   "name": "python3"
  },
  "language_info": {
   "codemirror_mode": {
    "name": "ipython",
    "version": 3
   },
   "file_extension": ".py",
   "mimetype": "text/x-python",
   "name": "python",
   "nbconvert_exporter": "python",
   "pygments_lexer": "ipython3",
   "version": "3.8.3"
  }
 },
 "nbformat": 4,
 "nbformat_minor": 4
}
